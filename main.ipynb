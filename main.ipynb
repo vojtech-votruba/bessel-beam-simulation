{
 "cells": [
  {
   "cell_type": "code",
   "execution_count": 1,
   "metadata": {},
   "outputs": [],
   "source": [
    "import matplotlib\n",
    "import matplotlib.pyplot as plt\n",
    "import matplotlib.cm as cm\n",
    "import numpy as np\n",
    "\n",
    "from diffractio import degrees, eps, mm, no_date, np, um\n",
    "from diffractio.scalar_fields_XYZ import Scalar_field_XYZ\n",
    "from diffractio.scalar_masks_XY import Scalar_mask_XY\n",
    "from diffractio.scalar_masks_XYZ import Scalar_mask_XYZ\n",
    "from diffractio.scalar_sources_XY import Scalar_source_XY\n"
   ]
  },
  {
   "cell_type": "code",
   "execution_count": 2,
   "metadata": {},
   "outputs": [
    {
     "ename": "TypeError",
     "evalue": "Scalar_field_XYZ.BPM() got an unexpected keyword argument 'num_processors'",
     "output_type": "error",
     "traceback": [
      "\u001b[0;31m---------------------------------------------------------------------------\u001b[0m",
      "\u001b[0;31mTypeError\u001b[0m                                 Traceback (most recent call last)",
      "Cell \u001b[0;32mIn[2], line 14\u001b[0m\n\u001b[1;32m     11\u001b[0m u \u001b[38;5;241m=\u001b[39m Scalar_mask_XYZ(x, y, z, wavelength) \u001b[38;5;66;03m# Výpočetní oblast\u001b[39;00m\n\u001b[1;32m     12\u001b[0m u\u001b[38;5;241m.\u001b[39mincident_field(u0\u001b[38;5;241m=\u001b[39mu0)\n\u001b[0;32m---> 14\u001b[0m \u001b[43mu\u001b[49m\u001b[38;5;241;43m.\u001b[39;49m\u001b[43mBPM\u001b[49m\u001b[43m(\u001b[49m\u001b[43mverbose\u001b[49m\u001b[38;5;241;43m=\u001b[39;49m\u001b[38;5;28;43;01mTrue\u001b[39;49;00m\u001b[43m,\u001b[49m\u001b[43m \u001b[49m\u001b[43mhas_edges\u001b[49m\u001b[38;5;241;43m=\u001b[39;49m\u001b[38;5;28;43;01mTrue\u001b[39;49;00m\u001b[43m,\u001b[49m\u001b[43m \u001b[49m\u001b[43mnum_processors\u001b[49m\u001b[38;5;241;43m=\u001b[39;49m\u001b[38;5;241;43m2\u001b[39;49m\u001b[43m)\u001b[49m\n\u001b[1;32m     15\u001b[0m u\u001b[38;5;241m.\u001b[39mdraw_XYZ_deprecated(y0\u001b[38;5;241m=\u001b[39m\u001b[38;5;241m0\u001b[39m \u001b[38;5;241m*\u001b[39m mm, logarithm\u001b[38;5;241m=\u001b[39m\u001b[38;5;28;01mTrue\u001b[39;00m, normalize\u001b[38;5;241m=\u001b[39m\u001b[38;5;124m'\u001b[39m\u001b[38;5;124mmaximum\u001b[39m\u001b[38;5;124m'\u001b[39m)\n",
      "\u001b[0;31mTypeError\u001b[0m: Scalar_field_XYZ.BPM() got an unexpected keyword argument 'num_processors'"
     ]
    }
   ],
   "source": [
    "num_pixels = 512\n",
    "\n",
    "x = np.linspace(-50 * um, 50 * um, 256)\n",
    "y = np.linspace(-50 * um, 50 * um, 256)\n",
    "z = np.linspace(0, 500 * um, 256)\n",
    "wavelength = .6 * um\n",
    "\n",
    "u0 = Scalar_source_XY(x, y, wavelength) # Zdroje\n",
    "u0.plane_wave(A=1)\n",
    "\n",
    "u = Scalar_mask_XYZ(x, y, z, wavelength) # Výpočetní oblast\n",
    "u.incident_field(u0=u0)\n",
    "\n",
    "u.BPM(verbose=True, has_edges=True)\n",
    "u.draw_XYZ_deprecated(y0=0 * mm, logarithm=True, normalize='maximum')"
   ]
  },
  {
   "cell_type": "code",
   "execution_count": null,
   "metadata": {},
   "outputs": [],
   "source": []
  },
  {
   "cell_type": "code",
   "execution_count": null,
   "metadata": {},
   "outputs": [],
   "source": []
  }
 ],
 "metadata": {
  "kernelspec": {
   "display_name": "Python 3",
   "language": "python",
   "name": "python3"
  },
  "language_info": {
   "codemirror_mode": {
    "name": "ipython",
    "version": 3
   },
   "file_extension": ".py",
   "mimetype": "text/x-python",
   "name": "python",
   "nbconvert_exporter": "python",
   "pygments_lexer": "ipython3",
   "version": "3.10.12"
  }
 },
 "nbformat": 4,
 "nbformat_minor": 2
}
